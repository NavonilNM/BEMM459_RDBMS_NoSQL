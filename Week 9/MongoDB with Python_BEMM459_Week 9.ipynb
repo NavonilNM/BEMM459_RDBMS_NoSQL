{
 "cells": [
  {
   "cell_type": "markdown",
   "metadata": {},
   "source": [
    "# BEMM459 Week 9 MongoDB with Python\n",
    "### <font color=\"green\"> Acknowledgement: Tutorial created using material from several sources including realypython.com, w3schools and docs.mongodb.com</font>\n",
    "### Please begin by starting mongod from S:\\ (mongod_use this.bat)\n",
    "### <font color=\"green\"> Please refer to \"MongoDB command reference\" under the Week 8 folder - <a href=https://github.com/NavonilNM/BEMM459_RDBMS_NoSQL>BEMM459 GitHub repository</a></font>"
   ]
  },
  {
   "cell_type": "markdown",
   "metadata": {},
   "source": [
    "# 1. Connectivity"
   ]
  },
  {
   "cell_type": "code",
   "execution_count": null,
   "metadata": {},
   "outputs": [],
   "source": [
    "import pymongo\n",
    "\n",
    "# Note: I am using port number 7000. You may have to change this port number if the connection is being refused. \n",
    "# To change the port number, open mongod_use.bat (in S:/ drive) and change 7000 to a different number, and then execute the server.\n",
    "# You can also update the .bat file for the the shell (client) for MongoDB with the same number (this file is called \"mongo_use this.bat\" and is also under S:/)\n",
    "mongoclient = pymongo.MongoClient(\"mongodb://localhost:7000/\")\n",
    "\n",
    "#Check what databases exist - the output is a list of database names\n",
    "print(mongoclient.list_database_names())\n"
   ]
  },
  {
   "cell_type": "code",
   "execution_count": null,
   "metadata": {},
   "outputs": [],
   "source": [
    "#You can also check databases that presently exisit using a loop\n",
    "dblist = mongoclient.list_database_names()\n",
    "for x in dblist:\n",
    "    print(x)    "
   ]
  },
  {
   "cell_type": "markdown",
   "metadata": {},
   "source": [
    "### Defining user-defined functions (..for later use)"
   ]
  },
  {
   "cell_type": "code",
   "execution_count": null,
   "metadata": {},
   "outputs": [],
   "source": [
    "#Defining a user function to check if database exists - In MongoDB, a database is not created until it gets content. \n",
    "def check_DatabaseExists(argDBName):\n",
    "    local_dblist = mongoclient.list_database_names()\n",
    "    if argDBName in local_dblist:\n",
    "        print(\"The database \", argDBName, \" exists.\")\n",
    "    else:\n",
    "        print(\"The database \", argDBName, \" does not exist.\")\n",
    "\n",
    "#Defining a user function to check if a collection exists - In MongoDB, a collection is not created until it gets content. \n",
    "def check_CollectionExists(argDBName, argCollName, local_mydb):\n",
    "    local_mydb = mongoclient[argDBName]\n",
    "    local_collist = local_mydb.list_collection_names()\n",
    "    if argCollName in local_collist:\n",
    "        print(\"The collection \",  argCollName, \"exists in database \", argDBName)\n",
    "    else:\n",
    "        print(\"The collection \", argCollName, \" does not exist in database \", argDBName)"
   ]
  },
  {
   "cell_type": "markdown",
   "metadata": {},
   "source": [
    "# 2. Create new MongoDB database"
   ]
  },
  {
   "cell_type": "code",
   "execution_count": null,
   "metadata": {},
   "outputs": [],
   "source": [
    "#Create a new database       \n",
    "mydb = mongoclient[\"BEMM459_Week9\"]\n",
    "print(type(mydb))\n",
    "\n",
    "#Check if database exists by calling function check_DatabaseExists with name of database as the arguement\n",
    "check_DatabaseExists(\"BEMM459_Week9\")\n",
    "\n",
    "'''\n",
    "#Without a function the code will be as follows\n",
    "dblist = mongoclient.list_database_names()\n",
    "if \"Database_BEMM459_Pymongo\" in dblist:\n",
    "    print(\"The database 'BEMM459J_Week8' exists.\")\n",
    "else:\n",
    "    print(\"The database 'BEMM459J_Week8' does not exist.\")\n",
    "'''\n",
    "\n",
    "print()"
   ]
  },
  {
   "cell_type": "markdown",
   "metadata": {},
   "source": [
    "# 3. Create new Collection "
   ]
  },
  {
   "cell_type": "code",
   "execution_count": null,
   "metadata": {},
   "outputs": [],
   "source": [
    "#Return a list of all collections in your database:\n",
    "print(mydb.list_collection_names())"
   ]
  },
  {
   "cell_type": "code",
   "execution_count": null,
   "metadata": {},
   "outputs": [],
   "source": [
    "#Create a new collection called \"customers\"\n",
    "mycol = mydb[\"customers\"]\n",
    "print(type(mycol))\n",
    "\n",
    "#Check if collection exists by calling function check_CollectionExists with the following arguements (parameters):\n",
    "#Name of database as the first arguement \n",
    "#Name of collection as the second arguement\n",
    "#mydb as the third arguement\n",
    "#In MongoDB, a collection is not created until it gets content. \n",
    "check_CollectionExists(\"BEMM459_Week9\", \"customers\", mydb)\n",
    "\n",
    "'''\n",
    "#Without a function the code will be as follows\n",
    "collist = mydb.list_collection_names()\n",
    "if \"customers\" in collist:\n",
    "    print(\"The collection 'customers' exists.\")\n",
    "'''\n",
    "\n",
    "print()"
   ]
  },
  {
   "cell_type": "markdown",
   "metadata": {},
   "source": [
    "# 4. Add documents"
   ]
  },
  {
   "cell_type": "code",
   "execution_count": null,
   "metadata": {},
   "outputs": [],
   "source": [
    "# Store key-values in a python dictonary object. Dictionaries (also called as associative arrays) are used to store data values in key:value pairs.\n",
    "mydict = { \"name\": \"I am Mongo\", \"address\": \"I live in the Virtual World\" }\n",
    "\n",
    "# Checking the data type - not necessary for the code to work (its only for learning)\n",
    "print(type(mydict))\n",
    "\n",
    "#Insert into collection\n",
    "x = mycol.insert_one(mydict)"
   ]
  },
  {
   "cell_type": "code",
   "execution_count": null,
   "metadata": {},
   "outputs": [],
   "source": [
    "#Check if Database Exists .. In MongoDB, a collection is not created until it gets content\n",
    "#Note that now data has been added\n",
    "check_DatabaseExists(\"BEMM459_Week9\")\n",
    "\n",
    "#Check if Collection Exists .. In MongoDB, a collection is not created until it gets content\n",
    "#Note that now data has been added\n",
    "check_CollectionExists(\"BEMM459_Week9\", \"customers\", mydb)"
   ]
  },
  {
   "cell_type": "code",
   "execution_count": null,
   "metadata": {},
   "outputs": [],
   "source": [
    "#Insert multiple documents\n",
    "#The first parameter of the insert_many() method is a list containing dictionaries with the data that is to be inserted\n",
    "\n",
    "mylist2 = [\n",
    "  { \"name\": \"Amy\", \"address\": \"Apple st 652\"},\n",
    "  { \"name\": \"Hannah\", \"address\": \"Mountain 21\"},\n",
    "  { \"name\": \"Michael\", \"address\": \"Valley 345\"},\n",
    "  { \"name\": \"Sandy\", \"address\": \"Ocean blvd 2\"},\n",
    "  { \"name\": \"Betty\", \"address\": \"Green Grass 1\"},\n",
    "  { \"name\": \"Richard\", \"address\": \"Sky st 331\"},\n",
    "  { \"name\": \"Susan\", \"address\": \"One way 98\"},\n",
    "  { \"name\": \"Vicky\", \"address\": \"Yellow Garden 2\"},\n",
    "  { \"name\": \"Ben\", \"address\": \"Park Lane 38\"},\n",
    "  { \"name\": \"William\", \"address\": \"Central st 954\"},\n",
    "  { \"name\": \"Chuck\", \"address\": \"Main Road 989\"},\n",
    "  { \"name\": \"Viola\", \"address\": \"Sideway 1633\"},\n",
    "  { \"name\": \"XXXX\", \"address\": \"XXX_add\"},\n",
    "  { \"name\": \"YYYY\", \"address\": \"YYY_add\"},\n",
    "  { \"name\": \"ZZZZ\", \"address\": \"ZZZ_add\"}\n",
    "]\n",
    "\n",
    "#The insert_many() method returns a InsertManyResult object, which has a property, inserted_ids, that holds the ids of the inserted documents.\n",
    "#Note that the unique identifier (\"_id\") will be added by MongoDB\n",
    "var = mycol.insert_many(mylist2)\n",
    "\n",
    "# Checking the data type - not necessary for the code to work (its only for learning)\n",
    "print(type(var))\n",
    "\n",
    "#print list of the _id values of the inserted documents:\n",
    "print(var.inserted_ids)"
   ]
  },
  {
   "cell_type": "code",
   "execution_count": null,
   "metadata": {},
   "outputs": [],
   "source": [
    "#Example of schemaless - adding additional key-value pairs\n",
    "#Insert Multiple Documents, with Specified IDs\n",
    "\n",
    "#Note that we are specificlly mentioning \"_id\" - this, this will not be added by MongoDB\n",
    "mylist = [\n",
    "  { \"_id\": 2211, \"name\": \"John\", \"address\": \"Highway 37\", \"income\": 50000, \"age\": 35},\n",
    "  { \"_id\": 2221, \"name\": \"Peter\", \"address\": \"Lowstreet 27\", \"income\": 65000, \"position\": \"Director\"},\n",
    "  { \"_id\": 2231, \"name\": \"Amy\", \"address\": \"Apple st 652\", \"post code\":\"EX7 9YH\", \"income\": 45000},\n",
    "  { \"_id\": 2241, \"name\": \"Hannah\", \"address\": \"Mountain 21\", \"income\": 70000, \"NI number\": \"SP567834945R\"},\n",
    "  { \"_id\": 2251, \"name\": \"Michael\", \"address\": \"Valley 345\", \"income\": 110000, \"NHS number\": \"NHS45AAY6\"},\n",
    "  { \"_id\": 2261, \"name\": \"Sandy\", \"address\": \"Ocean blvd 2\", \"income\": 103000},\n",
    "  { \"_id\": 2271, \"name\": \"Betty\", \"address\": \"AGreen Grass 1\", \"income\": 4000, \"age\": 66, \"position\": \"CFO\"},\n",
    "  { \"_id\": 2281, \"name\": \"Richard\", \"address\": \"Sky st 331\", \"income\": 5000},\n",
    "  { \"_id\": 2291, \"name\": \"Susan\", \"address\": \"One way 98\", \"income\": 70000},\n",
    "  { \"_id\": 2201, \"name\": \"Vicky\", \"address\": \"Yellow Garden 2\", \"income\": 71000},\n",
    "  { \"_id\": 2611, \"name\": \"Ben\", \"address\": \"Park Lane 38\", \"income\": 24000},\n",
    "  { \"_id\": 2621, \"name\": \"William\", \"address\": \"Central st 954\", \"income\": 35000},\n",
    "  { \"_id\": 2631, \"name\": \"Chuck\", \"address\": \"Main Road 989\", \"income\": 201000},\n",
    "  { \"_id\": 2641, \"name\": \"Viola\", \"address\": \"Sideway 1633\", \"post code\":\"EX4 7YH\", \"income\": 11000}\n",
    "]\n",
    "\n",
    "var = mycol.insert_many(mylist)\n",
    "\n",
    "#print list of the _id values of the inserted documents:\n",
    "print(var.inserted_ids)"
   ]
  },
  {
   "cell_type": "markdown",
   "metadata": {},
   "source": [
    "# Adding Embedded Documents"
   ]
  },
  {
   "cell_type": "code",
   "execution_count": null,
   "metadata": {},
   "outputs": [],
   "source": [
    "#Create a new collection called \"products\"\n",
    "mycolED = mydb[\"products\"]\n",
    "\n",
    "mylist = [\n",
    "   {\"item\": \"journal\", \"instock\": [ { \"warehouse\": \"A\", \"qty\": 5 }, { \"warehouse\": \"C\", \"qty\": 15 } ] },\n",
    "   {\"item\": \"notebook\", \"instock\": [ { \"warehouse\": \"C\", \"qty\": 5 } ] },\n",
    "   {\"item\": \"paper\", \"instock\": [ { \"warehouse\": \"A\", \"qty\": 60 }, { \"warehouse\": \"B\", \"qty\": 15 } ] },\n",
    "   {\"item\": \"planner\", \"instock\": [ { \"warehouse\": \"A\", \"qty\": 40 }, { \"warehouse\": \"B\", \"qty\": 5 } ] },\n",
    "   {\"item\": \"postcard\", \"instock\": [ { \"warehouse\": \"B\", \"qty\": 15 }, { \"warehouse\": \"C\", \"qty\": 35 } ] }\n",
    "]\n",
    "\n",
    "var = mycolED.insert_many(mylist)\n",
    "\n",
    "#print list of the _id values of the inserted documents:\n",
    "print(var.inserted_ids)"
   ]
  },
  {
   "cell_type": "code",
   "execution_count": null,
   "metadata": {},
   "outputs": [],
   "source": [
    "myresult = mycolED.find()\n",
    "\n",
    "#print the result:\n",
    "for x in myresult:\n",
    "    print(x)"
   ]
  },
  {
   "cell_type": "markdown",
   "metadata": {},
   "source": [
    "# 5. Query documents"
   ]
  },
  {
   "cell_type": "code",
   "execution_count": null,
   "metadata": {},
   "outputs": [],
   "source": [
    "#Display all documents in collection\n",
    "#The find() method returns all occurrences in the selection.\n",
    "#The first parameter of the find() method is a query object. In this example we use an empty query object, which selects all documents in the collection.\n",
    "\n",
    "myresult = mycol.find()\n",
    "\n",
    "#print the result:\n",
    "for x in myresult:\n",
    "    print(x)"
   ]
  },
  {
   "cell_type": "code",
   "execution_count": null,
   "metadata": {},
   "outputs": [],
   "source": [
    "#Python MongoDB Limit\n",
    "#To limit the result in MongoDB, we use the limit() method. The limit() method takes one parameter, a number defining how many documents to return.\n",
    "#Limit the result to only return 5 documents:\n",
    "myresult = mycol.find().limit(5)\n",
    "\n",
    "#print the result:\n",
    "for x in myresult:\n",
    "    print(x)"
   ]
  },
  {
   "cell_type": "code",
   "execution_count": null,
   "metadata": {},
   "outputs": [],
   "source": [
    "#The find_one() method returns the first occurrence in the selection.\n",
    "x = mycol.find_one()\n",
    "\n",
    "print(x)"
   ]
  },
  {
   "cell_type": "code",
   "execution_count": null,
   "metadata": {},
   "outputs": [],
   "source": [
    "#Projection - Projection means selecting only the necessary data rather than selecting whole of the data of a document. MongoDB's find() method accepts second optional parameter that is list of fields that you want to retrieve\n",
    "#The second parameter of the find() method is an object describing which fields to include in the result.\n",
    "\n",
    "#IMPORTANT: You are not allowed to specify both 0 and 1 values in the same object (except if one of the fields is the _id field). If you specify a field with the value 0, all other fields get the value 1, and vice versa:\n",
    "for x in mycol.find({},{ \"_id\":0, \"name\":1, \"income\":1}):\n",
    "    print(x)\n"
   ]
  },
  {
   "cell_type": "code",
   "execution_count": null,
   "metadata": {},
   "outputs": [],
   "source": [
    "#Excluding \"address\" from the result\n",
    "for x in mycol.find({},{\"_id\":0, \"address\": 0 }):\n",
    "    print(x)"
   ]
  },
  {
   "cell_type": "code",
   "execution_count": null,
   "metadata": {},
   "outputs": [],
   "source": [
    "#Filter Results. When finding documents in a collection, you can filter the result by using a query object. The first argument of the find() method is a query object, and is used to limit the search.\n",
    "\n",
    "myquery = { \"address\": \"Park Lane 38\" }\n",
    "mydoc = mycol.find(myquery)\n",
    "\n",
    "for x in mydoc:\n",
    "    print(x)"
   ]
  },
  {
   "cell_type": "code",
   "execution_count": null,
   "metadata": {},
   "outputs": [],
   "source": [
    "#Advanced Query - To make advanced queries you can use modifiers as values in the query object. \n",
    "#E.g. to find the documents where the \"address\" field starts with the letter \"S\" or higher (alphabetically), use the greater than modifier: {\"$gt\": \"S\"}:\n",
    "#Refer to Week 8 cohort notes\n",
    "myquery = { \"income\": { \"$gt\": 50000 } }\n",
    "\n",
    "mydoc = mycol.find(myquery)\n",
    "\n",
    "for x in mydoc:\n",
    "    print(x)"
   ]
  },
  {
   "cell_type": "code",
   "execution_count": null,
   "metadata": {},
   "outputs": [],
   "source": [
    "#Filter With Regular Expressions\n",
    "#To find only the documents where the \"address\" field starts with the letter \"S\", use the regular expression {\"$regex\": \"^S\"}:\n",
    "\n",
    "myquery = { \"address\": { \"$regex\": \"^S\" } }\n",
    "mydoc = mycol.find(myquery)\n",
    "\n",
    "for x in mydoc:\n",
    "    print(x)"
   ]
  },
  {
   "cell_type": "markdown",
   "metadata": {},
   "source": [
    "# 6. Sorting documents"
   ]
  },
  {
   "cell_type": "code",
   "execution_count": null,
   "metadata": {},
   "outputs": [],
   "source": [
    "#Python MongoDB Sort - Use the sort() method to sort the result in ascending or descending order. The sort() method takes one parameter for attribute/key name and one parameter for direction of sort (ascending is the default direction).\n",
    "#sort(\"name\", 1) #ascending\n",
    "#sort(\"name\", -1) #descending\n",
    "\n",
    "mydoc = mycol.find().sort(\"income\", -1)\n",
    "\n",
    "for x in mydoc:\n",
    "     print(x)"
   ]
  },
  {
   "cell_type": "markdown",
   "metadata": {},
   "source": [
    "# 7. Updating documents"
   ]
  },
  {
   "cell_type": "code",
   "execution_count": null,
   "metadata": {},
   "outputs": [],
   "source": [
    "#Update documents \n",
    "# You can update a record, or document as it is called in MongoDB, by using the update_one() method. The first parameter of the update_one() method is a query object defining which document to update.\n",
    "\n",
    "myquery = { \"address\": \"Sideway 1633\" }\n",
    "newvalues = { \"$set\": { \"address\": \"*** Sideway 1633 Changed to Exeter***\" } }\n",
    "\n",
    "mycol.update_one(myquery, newvalues)\n",
    "\n",
    "#print documents in the collection after the update:\n",
    "for x in mycol.find():\n",
    "    print(x)"
   ]
  },
  {
   "cell_type": "code",
   "execution_count": null,
   "metadata": {},
   "outputs": [],
   "source": [
    "#Update Many - To update all documents that meets the criteria of the query, use the update_many() method.\n",
    "#This query will update the address fields that starts with the letter \"S\" with \"***I am Mongo***\"\n",
    "\n",
    "myquery = { \"address\": { \"$regex\": \"^S\" } }\n",
    "newvalues = { \"$set\": { \"address\": \"*** All addresses starting with Character 'S' changed to - I live in Mongo***\" } }\n",
    "\n",
    "x = mycol.update_many(myquery, newvalues)\n",
    "\n",
    "print(x.modified_count, \"documents updated.\")\n"
   ]
  },
  {
   "cell_type": "markdown",
   "metadata": {},
   "source": [
    "# 8. Deleting documents"
   ]
  },
  {
   "cell_type": "code",
   "execution_count": null,
   "metadata": {},
   "outputs": [],
   "source": [
    "#Python MongoDB Delete Document\n",
    "#To delete one document, we use the delete_one() method.\n",
    "#The first parameter of the delete_one() method is a query object defining which document to delete.\n",
    "#Note: If the query finds more than one document, only the first occurrence is deleted.\n",
    "\n",
    "#Deleting one at a time...\n",
    "myquery = { \"address\": \"Mountain 21\" }\n",
    "mycol.delete_one(myquery)\n",
    "\n",
    "#...and querying the documents (one reduced after each command)\n",
    "mydoc = mycol.find(myquery)\n",
    "\n",
    "for x in mydoc:\n",
    "    print(x)"
   ]
  },
  {
   "cell_type": "code",
   "execution_count": null,
   "metadata": {},
   "outputs": [],
   "source": [
    "#Delete multiple documents\n",
    "#To delete more than one document, use the delete_many() method.\n",
    "#The first parameter of the delete_many() method is a query object defining which documents to delete.\n",
    "#The following query matches addresses that begin with S\n",
    "myquery = { \"address\": {\"$regex\": \"^A\"} }\n",
    "\n",
    "x = mycol.delete_many(myquery)\n",
    "\n",
    "print(x.deleted_count, \" documents deleted.\")\n"
   ]
  },
  {
   "cell_type": "code",
   "execution_count": null,
   "metadata": {},
   "outputs": [],
   "source": [
    "#Delete all documents in a collection\n",
    "#To delete all documents in a collection, pass an empty query object to the delete_many() method:\n",
    "\n",
    "x = mycol.delete_many({})\n",
    "\n",
    "print(x.deleted_count, \" documents deleted.\")"
   ]
  },
  {
   "cell_type": "markdown",
   "metadata": {},
   "source": [
    "# 9. Drop collection"
   ]
  },
  {
   "cell_type": "code",
   "execution_count": null,
   "metadata": {},
   "outputs": [],
   "source": [
    "#Python MongoDB Drop Collection - You can delete a collection by using the drop() method. All deleted indexes\n",
    "mycol.drop()\n",
    "\n",
    "#Check if the collection exists by calling the user function defined earlier\n",
    "check_CollectionExists(\"BEMM459_Week9\", \"customers\", mydb)"
   ]
  },
  {
   "cell_type": "markdown",
   "metadata": {},
   "source": [
    "# 10. Drop database"
   ]
  },
  {
   "cell_type": "code",
   "execution_count": null,
   "metadata": {},
   "outputs": [],
   "source": [
    "#Drop database using instance of MongoClient\n",
    "mongoclient.drop_database(\"BEMM459_Week9\")\n",
    "\n",
    "#Check to see if database exists by calling the user function defined earlier \n",
    "check_DatabaseExists(\"BEMM459_Week9\")"
   ]
  }
 ],
 "metadata": {
  "kernelspec": {
   "display_name": "Python 3",
   "language": "python",
   "name": "python3"
  },
  "language_info": {
   "codemirror_mode": {
    "name": "ipython",
    "version": 3
   },
   "file_extension": ".py",
   "mimetype": "text/x-python",
   "name": "python",
   "nbconvert_exporter": "python",
   "pygments_lexer": "ipython3",
   "version": "3.7.3"
  }
 },
 "nbformat": 4,
 "nbformat_minor": 4
}
