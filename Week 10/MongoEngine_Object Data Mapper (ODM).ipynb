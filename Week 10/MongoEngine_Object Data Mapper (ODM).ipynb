{
 "cells": [
  {
   "cell_type": "markdown",
   "metadata": {},
   "source": [
    "# BEMM459_Week 10 Lab - MongoDB and MongoEngine with Python\n",
    "\n",
    "### <font color=\"green\"> Acknowledgement: Tutorial created by refering to sources including tutorialspoint.com, realypython.com and docs.mongodb.com</font>\n",
    "\n",
    "### <font color=\"green\"> Please refer to MongoDB commands from Week 8 Folder - available under <a href=https://github.com/NavonilNM/BEMM459_RDBMS_NoSQL>BEMM459 GitHub repository</a></font>"
   ]
  },
  {
   "cell_type": "markdown",
   "metadata": {},
   "source": [
    "# 1. Installing MongoEngine"
   ]
  },
  {
   "cell_type": "code",
   "execution_count": null,
   "metadata": {},
   "outputs": [],
   "source": [
    "#Install a pip package in the current Jupyter kernel. We are installing the mongoengine ODM package\n",
    "\n",
    "import sys\n",
    "!{sys.executable} -m pip install mongoengine"
   ]
  },
  {
   "cell_type": "code",
   "execution_count": null,
   "metadata": {},
   "outputs": [],
   "source": [
    "import mongoengine\n",
    "\n",
    "#Displaying the version number\n",
    "mongoengine.__version__"
   ]
  },
  {
   "cell_type": "markdown",
   "metadata": {},
   "source": [
    "# 2. Connectivity and new MongoDB database"
   ]
  },
  {
   "cell_type": "code",
   "execution_count": null,
   "metadata": {},
   "outputs": [],
   "source": [
    "#Connecting to the MongoDB server using the connect() function provided by the library mongoengine\n",
    "#Also creating new database called 'mongoengineDB'\n",
    "\n",
    "from mongoengine import connect\n",
    "con=connect(\"mongoengineDB\", host=\"127.0.0.1\", port=7000)"
   ]
  },
  {
   "cell_type": "markdown",
   "metadata": {},
   "source": [
    "# 3. Class declaration and insert operations"
   ]
  },
  {
   "cell_type": "code",
   "execution_count": null,
   "metadata": {},
   "outputs": [],
   "source": [
    "#MongoEngine defines a Document class. \n",
    "#This is a base class whose inherited class is used to define structure and properties of collection of documents stored in MongoDB database. \n",
    "#Each object of this subclass forms Document in Collection in database.\n",
    "\n",
    "from mongoengine import *\n",
    "\n",
    "class Employee(Document):\n",
    "    _id = StringField(required=True)\n",
    "    employeeFirstName = StringField(max_length=40)\n",
    "    employeeLastName = StringField(max_length=40)\n",
    "    employeeSalary = IntField()"
   ]
  },
  {
   "cell_type": "code",
   "execution_count": null,
   "metadata": {},
   "outputs": [],
   "source": [
    "# Declare object of Employee class and call save() method to store the document in a database.\n",
    "emp1=Employee(_id=\"Emp01\", employeeFirstName=\"MongoDB\", employeeLastName=\"Python\", employeeSalary=50000).save()\n",
    "\n",
    "# Alternative method\n",
    "emp2=Employee()\n",
    "emp2._id=\"Emp02\"\n",
    "emp2.employeeFirstName=\"Redis\"\n",
    "emp2.employeeLastName=\"I am REDIS\"\n",
    "emp2.employeeSalary=60000\n",
    "emp2.save()"
   ]
  },
  {
   "cell_type": "code",
   "execution_count": null,
   "metadata": {},
   "outputs": [],
   "source": [
    "#To create a class that supports polymorphic schema, subclass it from DynamicDocument base class. \n",
    "class Project(DynamicDocument):\n",
    "    _id = IntField(required=True)\n",
    "    projectName = StringField()    \n",
    "    \n",
    "#Create an object which follows the schema for Project\n",
    "prj1=Project()\n",
    "prj1._id=1\n",
    "prj1.projectName=\"MongoDB advance project\"\n",
    "prj1.save()\n",
    "\n",
    "#**Important**Add another attribute to second document (example of schemaless)\n",
    "prj2=Project()\n",
    "prj2._id=2\n",
    "prj2.projectName=\"REDIS advance project\"\n",
    "setattr(prj2, \"projectLocation\", \"London\")\n",
    "prj2.save()"
   ]
  },
  {
   "cell_type": "code",
   "execution_count": null,
   "metadata": {},
   "outputs": [],
   "source": [
    "# To be used for Reference field - see below (student has a personal tutor who is a teacher)\n",
    "class Teacher(Document):\n",
    "    teacherId = StringField(required=True)\n",
    "    teacherFirstName=StringField()\n",
    "    teacherLastName=StringField()   \n",
    "     \n",
    "tchr1=Teacher()\n",
    "tchr1.teacherId=\"3\"\n",
    "tchr1.teacherFirstName=\"I am your\"\n",
    "tchr1.teacherLastName=\"Teacher\"\n",
    "tchr1.save()"
   ]
  },
  {
   "cell_type": "markdown",
   "metadata": {},
   "source": [
    "# 4. Advance: Class declaration with MongoEngine fields and attributes\n",
    "### ListField, DictField, ReferenceField\n",
    "### Attributes min_value and max_value\n",
    "### Embedded documents"
   ]
  },
  {
   "cell_type": "code",
   "execution_count": null,
   "metadata": {},
   "outputs": [],
   "source": [
    "class Student(Document):\n",
    "    studentid = StringField(required=True)\n",
    "    studentFirstName = StringField(max_length=50)\n",
    "    studentLastName = StringField(max_length=50)\n",
    "    \n",
    "    #The attribute min_value and max_value specifiy minimum and maximum acceptable value\n",
    "    studentAge = IntField(min_value=8, max_value=16)\n",
    "    \n",
    "    #ListField - wraps any standard field, thus allowing multiple objects to be used as a list object in a database. \n",
    "    #This field can be used with Reference Field to implement one to many relationships.\n",
    "    studentSubjects = ListField(StringField())\n",
    "    \n",
    "    #DictField - An object of DictField class stores a Python dictionary object (associative array)\n",
    "    #Creates embedded object\n",
    "    studentSkills = DictField()\n",
    "    \n",
    "    #ReferenceField - A MongoDB document can store reference to another document using this type of field. \n",
    "    #Allows us to implement join as in RDBMS. \n",
    "    #A ReferenceField constructor uses name of other document class (Teacher - see [3] above) as parameter\n",
    "    teacherId = ReferenceField(Teacher)\n",
    "    \n",
    "#StringField\n",
    "stud1=Student()\n",
    "stud1.studentid=\"1\"\n",
    "stud1.studentFirstName= \"Lost World\"\n",
    "stud1.studentLastName= \"Hello World\"\n",
    "stud1.studentAge= 15\n",
    "\n",
    "#ListField\n",
    "stud1.studentSubjects=['Programming', 'Databases', 'Maths and Stats', 'Visual Analytics']\n",
    "\n",
    "#DictField\n",
    "stud1.studentSkills['Redis']=\"expert\"\n",
    "stud1.studentSkills['MySQL']=\"novice\"\n",
    "stud1.studentSkills['SQLite']=\"expert\"\n",
    "stud1.studentSkills['MongoDB']=\"intermediate\"\n",
    "\n",
    "#ReferenceField\n",
    "#Note: Note that ReferenceField in Student document stores _id of corresponding Teacher document.\n",
    "stud1.teacherId=tchr1\n",
    "\n",
    "#Save document\n",
    "stud1.save()"
   ]
  },
  {
   "cell_type": "markdown",
   "metadata": {},
   "source": [
    "# 5. One-to-many Relationships using List [] of RefereneField"
   ]
  },
  {
   "cell_type": "code",
   "execution_count": null,
   "metadata": {},
   "outputs": [],
   "source": [
    "#You can implement one to many relationship using list of references. \n",
    "#Assuming that a student document has to be related with one or more teacher documents..\n",
    "#..the Student class must have a ListField of ReferenceField instances.\n",
    "\n",
    "#This is a slighly more complex class compared to class Student. Here teacherId is ListField() of ReferenceField()\n",
    "class StudentTeacher(Document):\n",
    "    studentid = StringField(required=True)\n",
    "    studentFirstName = StringField(max_length=50)\n",
    "    studentLastName = StringField(max_length=50)\n",
    "    \n",
    "    #The attribute min_value and max_value specifiy minimum and maximum acceptable value\n",
    "    studentAge = IntField(min_value=8, max_value=16)\n",
    "    \n",
    "    #ListField - wraps any standard field, thus allowing multiple objects to be used as a list object in a database. \n",
    "    #This field can be used with Reference Field to implement one to many relationships.\n",
    "    studentSubjects = ListField(StringField())\n",
    "    \n",
    "    #DictField - An object of DictField class stores a Python dictionary object (associative array)\n",
    "    #Creates embedded object\n",
    "    studentSkills = DictField()\n",
    "    \n",
    "    #** List of references using ReferenceField\n",
    "    #** This is a slighly more complex class compared to class Student. Here teacherId is ListField() of ReferenceField()\n",
    "    teacherId = ListField(ReferenceField(Teacher))\n",
    "    \n",
    "#First add three more teachers..refer to class Teacher under [3] above\n",
    "tchr3=Teacher(teacherId=\"3\", teacherFirstName=\"Teacher X\", teacherLastName=\"Teacher Y\").save()\n",
    "tchr4=Teacher(teacherId=\"13\", teacherFirstName=\"Teacher XX\", teacherLastName=\"Teacher YY\").save()\n",
    "tchr5=Teacher(teacherId=\"23\", teacherFirstName=\"Teacher XXX\", teacherLastName=\"Teacher YYY\").save()   \n",
    " \n",
    "# Now adding student and creating one-to-many relationship with teacher\n",
    "stud1=StudentTeacher()\n",
    "stud1.studentid=\"515\"\n",
    "stud1.studentFirstName= \"Lost World\"\n",
    "stud1.studentLastName= \"Hello World\"\n",
    "stud1.studentAge= 15\n",
    "\n",
    "#ListField\n",
    "stud1.studentSubjects=['Programming', 'Databases', 'Maths and Stats', 'Visual Analytics']\n",
    "\n",
    "#DictField\n",
    "stud1.studentSkills['Redis']=\"expert\"\n",
    "stud1.studentSkills['MySQL']=\"novice\"\n",
    "stud1.studentSkills['SQLite']=\"expert\"\n",
    "stud1.studentSkills['MongoDB']=\"intermediate\"\n",
    "\n",
    "#ReferenceField\n",
    "#Note: Note that ReferenceField in Student document stores _id of corresponding Teacher document.\n",
    "stud1.teacherId=[tchr3,tchr4,tchr5]\n",
    "\n",
    "#Save document\n",
    "stud1.save()"
   ]
  },
  {
   "cell_type": "code",
   "execution_count": null,
   "metadata": {},
   "outputs": [],
   "source": [
    "# Now adding another student to StudentTeacher class and creating one-to-many relationship with teacher\n",
    "stud2=StudentTeacher()\n",
    "stud2.studentid=\"60\"\n",
    "stud2.studentFirstName= \"Mongo\"\n",
    "stud2.studentLastName= \"King\"\n",
    "stud2.studentAge= 15\n",
    "\n",
    "#ListField\n",
    "stud2.studentSubjects=[\"Databases\", \"Visual Analytics\"]\n",
    "\n",
    "#DictField\n",
    "stud2.studentSkills[\"Databases\"]=\"expert\"\n",
    "stud2.studentSkills[\"Visual Analytics\"]=\"novice\"\n",
    "\n",
    "#ReferenceField\n",
    "#Note: Note that ReferenceField in Student document stores _id of corresponding Teacher document.\n",
    "stud2.teacherId=[tchr4,tchr5]\n",
    "\n",
    "#Save document\n",
    "stud2.save()"
   ]
  },
  {
   "cell_type": "markdown",
   "metadata": {},
   "source": [
    "# 6. Queries"
   ]
  },
  {
   "cell_type": "markdown",
   "metadata": {},
   "source": [
    "## 6A. Querying databases and collections"
   ]
  },
  {
   "cell_type": "code",
   "execution_count": null,
   "metadata": {},
   "outputs": [],
   "source": [
    "#Query the databases present in the server\n",
    "dbs=con.list_database_names()\n",
    "for db in dbs:\n",
    "    print(db)"
   ]
  },
  {
   "cell_type": "code",
   "execution_count": null,
   "metadata": {},
   "outputs": [],
   "source": [
    "#query collections in database mongoDB\n",
    "collections=con[\"mongoengineDB\"].list_collection_names()\n",
    "for collection in collections:\n",
    "    print (collection)"
   ]
  },
  {
   "cell_type": "markdown",
   "metadata": {},
   "source": [
    "## 6B. Returning documents"
   ]
  },
  {
   "cell_type": "code",
   "execution_count": null,
   "metadata": {},
   "outputs": [],
   "source": [
    "#First document satisfying the query is returned\n",
    "#The Document class has objects attribute that enable access to objects associated with the database.\n",
    "#Note in MongoEngine use .id to refer to _id\n",
    "\n",
    "tempObj=StudentTeacher.objects\n",
    "doc=tempObj.first()\n",
    "print('_ID:', doc.id, 'Student ID:', doc.studentid, '  First Name:',doc.studentFirstName, '  Last Name:', doc.studentLastName, '  Age:', doc.studentAge)"
   ]
  },
  {
   "cell_type": "markdown",
   "metadata": {},
   "source": [
    "## 6C. Returning embedded documents"
   ]
  },
  {
   "cell_type": "code",
   "execution_count": null,
   "metadata": {},
   "outputs": [],
   "source": [
    "#Printing documents in collection StudentTeacher (including embedded Document StudentSkill)\n",
    "#The Document class has objects attribute that enable access to objects associated with the database.\n",
    "#Note in MongoEngine use .id to refer to _id\n",
    "for stud_teacher in StudentTeacher.objects:\n",
    "    print ('_ID:', stud_teacher.id, 'Student ID:', stud_teacher.studentid, '  First Name:',stud_teacher.studentFirstName, '  Last Name:', stud_teacher.studentLastName, '  Age:', stud_teacher.studentAge)\n",
    "    \n",
    "    #ListField\n",
    "    print ('Student Subjects:')\n",
    "    for subject in stud_teacher.studentSubjects:\n",
    "        print('  ', subject)\n",
    "\n",
    "    #DictField - embedded document\n",
    "    print ('Student Skills:')\n",
    "    for key,value in stud_teacher.studentSkills.items():\n",
    "        print('  ', key, \" : \", value)\n",
    "        \n",
    "    #ReferenceField    \n",
    "    print ('Students and Teachers:')\n",
    "    for teacher in stud_teacher.teacherId:\n",
    "        print('_ID:', teacher.id, '  Teacher ID:', teacher.teacherId, 'Teacher First Name:', teacher.teacherFirstName, 'Teacher Last Name:', teacher.teacherLastName,)"
   ]
  },
  {
   "cell_type": "markdown",
   "metadata": {},
   "source": [
    "## 6D. Projection"
   ]
  },
  {
   "cell_type": "code",
   "execution_count": null,
   "metadata": {},
   "outputs": [],
   "source": [
    "#Projection\n",
    "#Use field names as keyword arguments to fields() and set to 1 to include, 0 to exclude.\n",
    "\n",
    "for stud_teacher in StudentTeacher.objects.fields(id=0,studentFirstName=1,studentLastName=1, studentSubjects=1):\n",
    "    print (stud_teacher.to_json())"
   ]
  },
  {
   "cell_type": "markdown",
   "metadata": {},
   "source": [
    "## 6E. Use of filters and operators"
   ]
  },
  {
   "cell_type": "code",
   "execution_count": null,
   "metadata": {},
   "outputs": [],
   "source": [
    "#Use of filter (similar to where clause in SQL). \n",
    "\n",
    "#Method 1: The objects attribute is a QuerySet manager. \n",
    "#It creates and returns a QuerySet when accessed. A query can be subjected to filter with the help of field names as keyword arguments.\n",
    "\n",
    "for stud_teacher in StudentTeacher.objects(studentid=\"60\"):\n",
    "    print ('_ID:', stud_teacher.id, 'Student ID:', stud_teacher.studentid, '  First Name:',stud_teacher.studentFirstName, '  Last Name:', stud_teacher.studentLastName, '  Age:', stud_teacher.studentAge)\n",
    "\n",
    "#Method 2 - using the filter object of QuerySet\n",
    "#query=StudentTeacher.objects\n",
    "#for stud_teacher in query.filter(studentid=\"515\"):\n",
    "#    print ('_ID:', stud_teacher.id, 'Student ID:', stud_teacher.studentid, '  First Name:',stud_teacher.studentFirstName, '  Last Name:', stud_teacher.studentLastName, '  Age:', stud_teacher.studentAge)"
   ]
  },
  {
   "cell_type": "code",
   "execution_count": null,
   "metadata": {},
   "outputs": [],
   "source": [
    "#Refer to MongoEngine documentation for query operators - https://docs.mongoengine.org/guide/querying.html\n",
    "#Operators other than equality may also be used in queries — just attach the operator name to a key with a double-underscore:\n",
    "#E.g., __gt (greater than), __lt (less than), __gte (greater than or equal to),__in (value is in list), etc.\n",
    "\n",
    "for stud_teacher in StudentTeacher.objects(studentAge__lt=18):\n",
    "    print ('_ID:', stud_teacher.id, 'Student ID:', stud_teacher.studentid, '  First Name:',stud_teacher.studentFirstName, '  Last Name:', stud_teacher.studentLastName, '  Age:', stud_teacher.studentAge)"
   ]
  },
  {
   "cell_type": "code",
   "execution_count": null,
   "metadata": {},
   "outputs": [],
   "source": [
    "#Example with __in[]\n",
    "#Refer to MongoEngine documentation for query operators - https://docs.mongoengine.org/guide/querying.html\n",
    "\n",
    "for stud_teacher in StudentTeacher.objects(studentFirstName__in=[\"Mongo\", \"Redis\"]):\n",
    "    print ('_ID:', stud_teacher.id, 'Student ID:', stud_teacher.studentid, '  First Name:',stud_teacher.studentFirstName, '  Last Name:', stud_teacher.studentLastName, '  Age:', stud_teacher.studentAge)"
   ]
  },
  {
   "cell_type": "code",
   "execution_count": null,
   "metadata": {},
   "outputs": [],
   "source": [
    "#Example with regular expression\n",
    "#Refer to MongoEngine documentation for query operators - https://docs.mongoengine.org/guide/querying.html\n",
    "# exact (exact string match), iexact (exact string match - case insensitive, contains (string field contains value), etc.\n",
    "\n",
    "for stud_teacher in StudentTeacher.objects(studentFirstName__contains=\"o\"):\n",
    "    print ('_ID:', stud_teacher.id, 'Student ID:', stud_teacher.studentid, '  First Name:',stud_teacher.studentFirstName, '  Last Name:', stud_teacher.studentLastName, '  Age:', stud_teacher.studentAge)"
   ]
  },
  {
   "cell_type": "markdown",
   "metadata": {},
   "source": [
    "## 6F. Output as JSON object"
   ]
  },
  {
   "cell_type": "code",
   "execution_count": null,
   "metadata": {},
   "outputs": [],
   "source": [
    "#to_json() mehod of Document class is used to obtain JSON version of Document\n",
    "\n",
    "for stud_teacher in StudentTeacher.objects:\n",
    "    print (stud_teacher.to_json())"
   ]
  },
  {
   "cell_type": "code",
   "execution_count": null,
   "metadata": {},
   "outputs": [],
   "source": [
    "#to_json() mehod of Document class is used to obtain JSON version of Document\n",
    "#We are importing json library to pretty print\n",
    "\n",
    "import json\n",
    "\n",
    "for stud_teacher in StudentTeacher.objects:\n",
    "    my_json = stud_teacher.to_json()\n",
    "    parsed = json.loads(my_json)\n",
    "    print(json.dumps(parsed, indent=4, sort_keys=True))"
   ]
  },
  {
   "cell_type": "markdown",
   "metadata": {},
   "source": [
    "# 7. Modify/Update a Document"
   ]
  },
  {
   "cell_type": "code",
   "execution_count": null,
   "metadata": {},
   "outputs": [],
   "source": [
    "# Update document in database\n",
    "\n",
    "#First document satisfying the query is returned\n",
    "qset=StudentTeacher.objects(studentid=\"60\")\n",
    "modStudent=qset.first()\n",
    "\n",
    "#Print before update\n",
    "print('Before Update_ID:', modStudent.id, 'Student ID:', modStudent.studentid, '  First Name:',modStudent.studentFirstName, '  Last Name:', modStudent.studentLastName, '  Age:', modStudent.studentAge)\n",
    "\n",
    "#Updating values\n",
    "modStudent.update(studentid=\"123\")\n",
    "modStudent.update(studentFirstName= \"Now I am 123\")\n",
    "modStudent.update(studentLastName= \"Now I am 123\")\n",
    "\n",
    "#Print after update - note that the objectIDs are the same\n",
    "qset=StudentTeacher.objects(studentid=\"123\")\n",
    "modStudent=qset.first()\n",
    "print('After Update_ID:', modStudent.id, 'Student ID:', modStudent.studentid, '  First Name:',modStudent.studentFirstName, '  Last Name:', modStudent.studentLastName, '  Age:', modStudent.studentAge)\n"
   ]
  },
  {
   "cell_type": "markdown",
   "metadata": {},
   "source": [
    "# 8. Delete Document, Collection and Database"
   ]
  },
  {
   "cell_type": "code",
   "execution_count": null,
   "metadata": {},
   "outputs": [],
   "source": [
    "# Delete document from database\n",
    "qset=StudentTeacher.objects(studentid=\"515\")\n",
    "delStudent=qset.first()\n",
    "\n",
    "delStudent.delete()"
   ]
  },
  {
   "cell_type": "code",
   "execution_count": null,
   "metadata": {},
   "outputs": [],
   "source": [
    "#Drops the entire collection associated with this Document type from the database.\n",
    "StudentTeacher.drop_collection()"
   ]
  },
  {
   "cell_type": "code",
   "execution_count": null,
   "metadata": {},
   "outputs": [],
   "source": [
    "#Drop database\n",
    "con.drop_database(\"mongoengineDB\")"
   ]
  },
  {
   "cell_type": "markdown",
   "metadata": {},
   "source": [
    "# 9. Close Connection to the database"
   ]
  },
  {
   "cell_type": "code",
   "execution_count": null,
   "metadata": {},
   "outputs": [],
   "source": [
    "#Closing the database connection\n",
    "con.close()"
   ]
  }
 ],
 "metadata": {
  "kernelspec": {
   "display_name": "Python 3",
   "language": "python",
   "name": "python3"
  },
  "language_info": {
   "codemirror_mode": {
    "name": "ipython",
    "version": 3
   },
   "file_extension": ".py",
   "mimetype": "text/x-python",
   "name": "python",
   "nbconvert_exporter": "python",
   "pygments_lexer": "ipython3",
   "version": "3.7.3"
  }
 },
 "nbformat": 4,
 "nbformat_minor": 2
}
