{
 "cells": [
  {
   "cell_type": "markdown",
   "metadata": {},
   "source": [
    "# BEMM459 - Week 8: REDIS with Python\n",
    "\n",
    "### Acknowledgement: Tutorial created by refering to several sources including realypython.com and redis.io\n",
    "\n",
    "### <font color=\"green\"> Begin by first starting Redis server from S:\\\\\"</font>\n",
    "### <font color=\"green\"> Also refer to the Github resource - Redis command reference (Week 7) </a> </font>"
   ]
  },
  {
   "cell_type": "markdown",
   "metadata": {},
   "source": [
    "# 1. Connectivity"
   ]
  },
  {
   "cell_type": "code",
   "execution_count": null,
   "metadata": {},
   "outputs": [],
   "source": [
    "# Import Redis package\n",
    "import redis\n",
    "\n",
    "# Main class Redis() which you use to execute Redis commands (the port and db=0 are default values)\n",
    "# Localhost = 127.0.0.1\n",
    "r = redis.Redis(host='localhost', port=6379, db=11)\n",
    "\n",
    "# Check database connection -will return true if successful\n",
    "print(r.ping())"
   ]
  },
  {
   "cell_type": "markdown",
   "metadata": {},
   "source": [
    "# 2. Set and GET"
   ]
  },
  {
   "cell_type": "code",
   "execution_count": null,
   "metadata": {},
   "outputs": [],
   "source": [
    "# Set and Get key-value\n",
    "r.set (\"UOE:UEBS:BusAn:Sept20:PGTM\", \"MSc in Business Analytics 2020-21 (Cohort 1)\")\n",
    "r.set (\"UOE:UEBS:BusAn:Sept21:PGTM\", \"MSc in Business Analytics 2021-22 (Cohort 2)\")\n",
    "\n",
    "r.set (\"UOE:UEBS:BusAn:Sept20:UGTM\", \"BSc in Business Analytics 2020-21 (Cohort 1)\")\n",
    "r.set (\"UOE:UEBS:BusAn:Sept21:UGTM\", \"BSc in Business Analytics 2021-22 (Cohort 2)\")\n",
    "\n",
    "r.set (\"UOE:UEBS:OperRes:Sept20:PGTM\", \"MSc in Operations Research 2020-21 (Cohort 15)\")\n",
    "r.set (\"UOE:UEBS:OperRes:Sept21:PGTM\", \"MSc in Operations Research 2020-21 (Cohort 16)\")\n",
    "\n",
    "r.set (\"UOE:CEMPS:OperRes:Sept20:PGTM\", \"MEng in Operations Research 2020-21 (Cohort 45)\")\n",
    "r.set (\"UOE:CEMPS:OperRes:Sept20:UGTM\", \"BEng in Operations Research 2020-21 (Cohort 18)\")\n",
    "\n",
    "# The returned value is Python's bytes type\n",
    "val=r.get (\"UOE:CEMPS:OperRes:Sept20:UGTM\")\n",
    "print (type(val))\n",
    "print (val)\n",
    "\n",
    "# Use .decode() method with utf-8 to return String object\n",
    "val1=r.get (\"UOE:UEBS:OperRes:Sept21:PGTM\").decode(\"utf-8\")\n",
    "print (type(val1))\n",
    "print (val1)"
   ]
  },
  {
   "cell_type": "code",
   "execution_count": null,
   "metadata": {},
   "outputs": [],
   "source": [
    "# Sets the given keys to their respective values. MSET replaces existing values with new values, just as regular SET. \n",
    "# MSET is atomic, so all given keys are set at once. It is not possible for clients to see that some of the keys were updated while others are unchanged.\n",
    "r.mset({\"UOE:UEBS:BusAn:Sept20:PGTM:Coordinator1\": \"Nav\", \"UOE:UEBS:BusAn:Sept20:PGTM:Coordinator2\": \"Faculty 1\", \"UOE:UEBS:BusAn:Sept20:PGTM:Coordinator3\": \"Faculty 2\",})\n",
    "\n",
    "val = r.get(\"UOE:UEBS:BusAn:Sept20:PGTM:Coordinator1\").decode(\"utf-8\")\n",
    "print (val)\n",
    "\n",
    "ky=r.keys(\"UOE:UEBS:BusAn:Sept20:PGTM:Coordinator*\")\n",
    "\n",
    "for x in ky:\n",
    "    print(\"Key: \", x.decode(\"utf-8\"))\n",
    "    key=x.decode(\"utf-8\")\n",
    "    print(\"Value: \", r.get(key).decode(\"utf-8\"))    "
   ]
  },
  {
   "cell_type": "markdown",
   "metadata": {},
   "source": [
    "# 3. Example Commands \n",
    "### Try out other commands from Week 7. Also refer to https://redis.io/ for syntax"
   ]
  },
  {
   "cell_type": "code",
   "execution_count": null,
   "metadata": {},
   "outputs": [],
   "source": [
    "# The incr/decr increments/decrements the number stored at key by one\n",
    "\n",
    "r.set(\"UOE:UEBS:BusAn:Sept20:PGTM:StudentNumber\",1)\n",
    "r.get(\"UOE:UEBS:BusAn:Sept20:PGTM:StudentNumber\").decode(\"utf-8\")\n",
    "\n",
    "r.incr(\"UOE:UEBS:BusAn:Sept20:PGTM:StudentNumber\")\n",
    "r.incr(\"UOE:UEBS:BusAn:Sept20:PGTM:StudentNumber\")\n",
    "r.incr(\"UOE:UEBS:BusAn:Sept20:PGTM:StudentNumber\")\n",
    "r.incr(\"UOE:UEBS:BusAn:Sept20:PGTM:StudentNumber\")\n",
    "r.incr(\"UOE:UEBS:BusAn:Sept20:PGTM:StudentNumber\")\n",
    "r.incr(\"UOE:UEBS:BusAn:Sept20:PGTM:StudentNumber\")\n",
    "r.get(\"UOE:UEBS:BusAn:Sept20:PGTM:StudentNumber\").decode(\"utf-8\")\n",
    "\n",
    "r.decr(\"UOE:UEBS:BusAn:Sept20:PGTM:StudentNumber\")\n",
    "r.get(\"UOE:UEBS:BusAn:Sept20:PGTM:StudentNumber\").decode(\"utf-8\")"
   ]
  },
  {
   "cell_type": "markdown",
   "metadata": {},
   "source": [
    "# 4. Redis Datatype - Lists"
   ]
  },
  {
   "cell_type": "code",
   "execution_count": null,
   "metadata": {},
   "outputs": [],
   "source": [
    "# Redis Lists are lists of strings, sorted by insertion order. \n",
    "# You can add elements to a Redis List on the head (LPUSH) or on the tail (RPUSH).\n",
    "\n",
    "r.rpush (\"UOE:UEBS:BusAn:Sept20:PGTM:Week8:Attendance\", \"Student-23456\")\n",
    "r.rpush (\"UOE:UEBS:BusAn:Sept20:PGTM:Week8:Attendance\", \"Student-11345\")\n",
    "r.rpush (\"UOE:UEBS:BusAn:Sept20:PGTM:Week8:Attendance\", \"Student-56734\")\n",
    "r.rpush (\"UOE:UEBS:BusAn:Sept20:PGTM:Week8:Attendance\", \"Student-06784\")\n",
    "\n",
    "# llen returns the length of the list stored at key.\n",
    "print (\"Number of students that attended Week 8 lecture: \", r.llen (\"UOE:UEBS:BusAn:Sept20:PGTM:Week8:Attendance\"))\n",
    "\n",
    "# lindex returns the element at index index in the list stored at key. The index is zero-based, so 0 means the first element.\n",
    "print (\"Returning first student: \", r.lindex (\"UOE:UEBS:BusAn:Sept20:PGTM:Week8:Attendance\", 0).decode(\"utf-8\"))\n",
    "print (\"Returning third student: \", r.lindex (\"UOE:UEBS:BusAn:Sept20:PGTM:Week8:Attendance\", 2).decode(\"utf-8\"))"
   ]
  },
  {
   "cell_type": "code",
   "execution_count": null,
   "metadata": {},
   "outputs": [],
   "source": [
    "# lrange() returns the specified elements of the list stored at key. -1 is the last element of the list.\n",
    "r.lrange(\"UOE:UEBS:BusAn:Sept20:PGTM:Week8:Attendance\", 0, -1)"
   ]
  },
  {
   "cell_type": "markdown",
   "metadata": {},
   "source": [
    "# 5. Redis Datatype - Sets"
   ]
  },
  {
   "cell_type": "code",
   "execution_count": null,
   "metadata": {},
   "outputs": [],
   "source": [
    "# Sorted Sets ZADD - adding a sorted set records expects a dictionary in the format of {[VALUE]: [INDEX]}:\n",
    "# Redis Sorted Sets are non-repeating collections of Strings. However, every member of a Sorted Set is associated with a score, that is used in order the strings from the smallest to the greatest score. \n",
    "# While members are unique, the scores may be repeated.\n",
    "\n",
    "# Initialize sorted set with 3 values\n",
    "r.zadd(\"PGTM:BEMM459:Students\", \n",
    "                        {\"Student_HE\": 1,\n",
    "                         \"Student_NM\": 2, \n",
    "                         \"Student_KK\": 3, \n",
    "                         \"Student_TT\": 4, \n",
    "                         \"Student_MM\": 5})\n",
    "\n",
    "# Displaying all records\n",
    "r.zrange(\"PGTM:BEMM459:Students\", 0, -1)"
   ]
  },
  {
   "cell_type": "code",
   "execution_count": null,
   "metadata": {},
   "outputs": [],
   "source": [
    "# Adding item to sorted set\n",
    "r.zadd(\"PGTM:BEMM459:Students\", {\"New Student***\": 4})\n",
    "\n",
    "# Displaying all records\n",
    "r.zrange(\"PGTM:BEMM459:Students\", 0, -1)"
   ]
  },
  {
   "cell_type": "markdown",
   "metadata": {},
   "source": [
    "# 6. Redis Datatype - Hash"
   ]
  },
  {
   "cell_type": "code",
   "execution_count": null,
   "metadata": {},
   "outputs": [],
   "source": [
    "# A Redis hash is a collection of key-value pairs. \n",
    "# Key is \"PGTM_Module:BEMM450\". Hash data type is used to store the Module object and which contains basic information about the module.\n",
    "\n",
    "record = {\n",
    "    \"Module Leader\": \"Nav\",\n",
    "    \"Module Name\": \"Databases for Business Analytics\",\n",
    "    \"Module Website\": \"https://vle.exeter.ac.uk/course/info.php?id=8733\",\n",
    "    \"github\": \"https://github.com/NavonilNM/BEMM459_RDBMS_NoSQL\"\n",
    "}\n",
    "\n",
    "r.hmset(\"PGTM_Module:BEMM459\", record)\n",
    "r.hgetall(\"PGTM_Module:BEMM459\")"
   ]
  },
  {
   "cell_type": "markdown",
   "metadata": {},
   "source": [
    "# 7. Time to Live"
   ]
  },
  {
   "cell_type": "code",
   "execution_count": null,
   "metadata": {},
   "outputs": [],
   "source": [
    "# Example of Time To Live (TTL). Use this to temporarily store useful data.\n",
    "# Every key has TTL associated with it and the default value is -1.\n",
    "# Set this number to a positive value and which represents the number of seconds remaining before the data expires.\n",
    "\n",
    "from datetime import datetime\n",
    "# retrieving current time using using datetime object\n",
    "now = datetime.now()\n",
    "\n",
    "r.set(\"NavAPP:Day5:Visiting:ip_address\", \"123.114.68.111\")\n",
    "r.set(\"NavAPP:Day5:Visiting:timestamp\", now.strftime(\"%H:%M:%S\"))\n",
    "r.set(\"NavAPP:Day5:Visiting:last_URL\", \"Web_URL_Amazon_123..\")\n",
    "\n",
    "print(r.get(\"NavAPP:Day5:Visiting:ip_address\"))\n",
    "print(r.get(\"NavAPP:Day5:Visiting:timestamp\"))\n",
    "# Displaying time to live for one key\n",
    "r.ttl (\"NavAPP:Day5:Visiting:last_URL\")\n",
    "print(r.get(\"NavAPP:Day5:Visiting:last_URL\"))"
   ]
  },
  {
   "cell_type": "code",
   "execution_count": null,
   "metadata": {},
   "outputs": [],
   "source": [
    "# Set expiry to 60 seconds\n",
    "r.expire(\"NavAPP:Day5:Visiting:last_URL\", 60)"
   ]
  },
  {
   "cell_type": "code",
   "execution_count": null,
   "metadata": {},
   "outputs": [],
   "source": [
    "print(r.ttl (\"NavAPP:Day5:Visiting:last_URL\"))\n",
    "\n",
    "# Display only if TTL has not expired\n",
    "if r.ttl (\"NavAPP:Day5:Visiting:last_URL\") !=-1:\n",
    "    print(r.get(\"NavAPP:Day5:Visiting:last_URL\").decode(\"utf-8\"))"
   ]
  },
  {
   "cell_type": "markdown",
   "metadata": {},
   "source": [
    "# 8. Pattern Matching"
   ]
  },
  {
   "cell_type": "code",
   "execution_count": null,
   "metadata": {},
   "outputs": [],
   "source": [
    "# Redis KEYS command is used to search keys with a matching pattern. Use * and ? for pattern matching\n",
    "# Note: This command is intended for debugging and special operations, such as changing your keyspace layout. \n",
    "# Don't use KEYS in your regular application code. \n",
    "# If you're looking for a way to find keys in a subset of your keyspace, consider using SCAN or sets.\n",
    "\n",
    "'''\n",
    "Supported patterns:\n",
    "\n",
    "h?llo matches hello, hallo and hxllo\n",
    "h*llo matches hllo and heeeello\n",
    "h[ae]llo matches hello and hallo, but not hillo\n",
    "h[^e]llo matches hallo, hbllo, ... but not hello\n",
    "h[a-b]llo matches hallo and hbllo\n",
    "Use \\ to escape special characters if you want to match them verbatim.\n",
    "\n",
    "'''\n",
    "\n",
    "vals = r.keys(\"*N*\")\n",
    "\n",
    "# Loop through the values\n",
    "for x in vals:\n",
    "    print(\"Key: \", x.decode(\"utf-8\"))\n",
    "    key=x.decode(\"utf-8\")\n",
    "    print(\"Value: \", r.get(key).decode(\"utf-8\"))"
   ]
  },
  {
   "cell_type": "code",
   "execution_count": null,
   "metadata": {},
   "outputs": [],
   "source": [
    "# Note: This command is intended for debugging and special operations, such as changing your keyspace layout. \n",
    "\n",
    "# Return all keys\n",
    "r.keys()"
   ]
  },
  {
   "cell_type": "code",
   "execution_count": null,
   "metadata": {},
   "outputs": [],
   "source": [
    "# RANDOMKEY command is used to get a random key from the database.\n",
    "r.randomkey()"
   ]
  },
  {
   "cell_type": "markdown",
   "metadata": {},
   "source": [
    "# 9. Example Application\n",
    "### Sale of memorabilia in Exeter Student Guild Shop and inventory control"
   ]
  },
  {
   "cell_type": "code",
   "execution_count": null,
   "metadata": {},
   "outputs": [],
   "source": [
    "import random\n",
    "\n",
    "\n",
    "# Redis hash of field-value pairs is used. Each has has a key that with an integer (we are importing random())\n",
    "random.seed(203)\n",
    "\n",
    "# The prefix SGU creates a namespace. We are only selling Mugs (SGU:Mugs)\n",
    "\n",
    "SGU_mugs = {f\"SGU_Mug:{random.getrandbits(32)}\": i for i in (\n",
    "    {\n",
    "        \"color\": \"black\",\n",
    "        \"price\": 9.99,\n",
    "        \"style\": \"fitted\",\n",
    "        \"quantity\": 1000,\n",
    "        \"npurchased\": 0,\n",
    "    },\n",
    "    {\n",
    "        \"color\": \"green\",\n",
    "        \"price\": 9.99,\n",
    "        \"style\": \"open mug\",\n",
    "        \"quantity\": 500,\n",
    "        \"npurchased\": 0,\n",
    "    },\n",
    "    {\n",
    "        \"color\": \"yellow\",\n",
    "        \"price\": 9.99,\n",
    "        \"style\": \"long mug\",\n",
    "        \"quantity\": 1500,\n",
    "        \"npurchased\": 0,\n",
    "    },\n",
    "    {\n",
    "        \"color\": \"purple\",\n",
    "        \"price\": 9.99,\n",
    "        \"style\": \"recyclable\",\n",
    "        \"quantity\": 5000,\n",
    "        \"npurchased\": 0,\n",
    "    },\n",
    "    {\n",
    "        \"color\": \"white\",\n",
    "        \"price\": 9.99,\n",
    "        \"style\": \"baseball\",\n",
    "        \"quantity\": 200,\n",
    "        \"npurchased\": 0,\n",
    "    })\n",
    "}\n",
    "\n"
   ]
  },
  {
   "cell_type": "code",
   "execution_count": null,
   "metadata": {},
   "outputs": [],
   "source": [
    "# database 7 will be used\n",
    "\n",
    "import redis\n",
    "\n",
    "r7 = redis.Redis(db=15)"
   ]
  },
  {
   "cell_type": "code",
   "execution_count": null,
   "metadata": {},
   "outputs": [],
   "source": [
    "# Adding data to database using HMSET\n",
    "\n",
    "# The code block above also introduces the concept of Redis pipelining, which is a way to cut down the number of round-trip transactions that you need to write or read data from your Redis server. \n",
    "# If you would have just called r.hmset() three times, then this would necessitate a back-and-forth round trip operation for each row written.\n",
    "\n",
    "with r7.pipeline() as pipe:\n",
    "    for mug_id, SGU_Mug in SGU_mugs.items():\n",
    "            pipe.hmset(mug_id, SGU_Mug)   \n",
    "    pipe.execute()"
   ]
  },
  {
   "cell_type": "code",
   "execution_count": null,
   "metadata": {},
   "outputs": [],
   "source": [
    "# Saving data\n",
    "\n",
    "r7.bgsave()"
   ]
  },
  {
   "cell_type": "code",
   "execution_count": null,
   "metadata": {},
   "outputs": [],
   "source": [
    "r7.keys(\"SGU_Mug*\")"
   ]
  },
  {
   "cell_type": "code",
   "execution_count": null,
   "metadata": {},
   "outputs": [],
   "source": [
    "print(r7.hgetall(\"SGU_Mug:2113567782\"))"
   ]
  },
  {
   "cell_type": "code",
   "execution_count": null,
   "metadata": {},
   "outputs": [],
   "source": [
    "# If item is in stock, increase its npurchased by 1 and decrease its quantity (inventory) by 1.\n",
    "\n",
    "r7.hincrby(\"SGU_Mug:2113567782\", \"npurchased\", 1)\n",
    "r7.hincrby(\"SGU_Mug:2113567782\", \"quantity\", -1)"
   ]
  },
  {
   "cell_type": "code",
   "execution_count": null,
   "metadata": {},
   "outputs": [],
   "source": [
    "# View values\n",
    "\n",
    "print(r7.hget(\"SGU_Mug:2113567782\", \"npurchased\"))\n",
    "print(r7.hget(\"SGU_Mug:2113567782\", \"quantity\"))"
   ]
  },
  {
   "cell_type": "code",
   "execution_count": null,
   "metadata": {},
   "outputs": [],
   "source": [
    "import logging\n",
    "\n",
    "logging.basicConfig()\n",
    "\n",
    "class OutOfStockError(Exception):\n",
    "    \"\"\"Raised when mugs are all out of stock\"\"\"\n",
    "\n",
    "def buyitem(r, itemid) -> None:\n",
    "    with r.pipeline() as pipe:\n",
    "        error_count = 0\n",
    "        while True:\n",
    "            try:\n",
    "                # Get available inventory, watching for changes\n",
    "                # related to this itemid before the transaction\n",
    "                pipe.watch(itemid)\n",
    "                nleft: bytes = r.hget(itemid, \"quantity\")\n",
    "                if nleft > b\"0\":\n",
    "                    pipe.multi()\n",
    "                    pipe.hincrby(itemid, \"quantity\", -1)\n",
    "                    pipe.hincrby(itemid, \"npurchased\", 1)\n",
    "                    pipe.execute()\n",
    "                    break\n",
    "                else:\n",
    "                    # Stop watching the itemid and raise to break out\n",
    "                    pipe.unwatch()\n",
    "                    raise OutOfStockError(\n",
    "                        f\"Sorry, {itemid} is out of stock!\"\n",
    "                    )\n",
    "            except redis.WatchError:\n",
    "                # Log total num. of errors by this user to buy this item,\n",
    "                # then try the same process again of WATCH/HGET/MULTI/EXEC\n",
    "                error_count += 1\n",
    "                logging.warning(\n",
    "                    \"WatchError #%d: %s; retrying\",\n",
    "                    error_count, itemid\n",
    "                )\n",
    "    return None"
   ]
  },
  {
   "cell_type": "code",
   "execution_count": null,
   "metadata": {},
   "outputs": [],
   "source": [
    "buyitem(r7, \"SGU_Mug:2113567782\")\n",
    "buyitem(r7, \"SGU_Mug:2113567782\")\n",
    "buyitem(r7, \"SGU_Mug:2113567782\")\n",
    "r7.hmget(\"SGU_Mug:2113567782\", \"quantity\", \"npurchased\")"
   ]
  },
  {
   "cell_type": "code",
   "execution_count": null,
   "metadata": {},
   "outputs": [],
   "source": [
    "# Buy remaining 196 hats for item 56854717 and deplete stock to 0\n",
    "for x in range(4996):\n",
    "    buyitem(r7, \"SGU_Mug:2113567782\")\n",
    "r7.hmget(\"SGU_Mug:2113567782\", \"quantity\", \"npurchased\")"
   ]
  },
  {
   "cell_type": "code",
   "execution_count": null,
   "metadata": {},
   "outputs": [],
   "source": [
    "r7.hmget(\"SGU_Mug:2113567782\", \"quantity\", \"npurchased\")"
   ]
  },
  {
   "cell_type": "code",
   "execution_count": null,
   "metadata": {},
   "outputs": [],
   "source": [
    "buyitem(r7, \"SGU_Mug:2113567782\")"
   ]
  },
  {
   "cell_type": "code",
   "execution_count": null,
   "metadata": {},
   "outputs": [],
   "source": [
    "r7.lastsave()  # Redis command: LASTSAVE"
   ]
  },
  {
   "cell_type": "code",
   "execution_count": null,
   "metadata": {},
   "outputs": [],
   "source": [
    "r7.bgsave()"
   ]
  },
  {
   "cell_type": "code",
   "execution_count": null,
   "metadata": {},
   "outputs": [],
   "source": [
    "r7.lastsave()"
   ]
  }
 ],
 "metadata": {
  "kernelspec": {
   "display_name": "Python 3",
   "language": "python",
   "name": "python3"
  },
  "language_info": {
   "codemirror_mode": {
    "name": "ipython",
    "version": 3
   },
   "file_extension": ".py",
   "mimetype": "text/x-python",
   "name": "python",
   "nbconvert_exporter": "python",
   "pygments_lexer": "ipython3",
   "version": "3.7.3"
  }
 },
 "nbformat": 4,
 "nbformat_minor": 2
}
