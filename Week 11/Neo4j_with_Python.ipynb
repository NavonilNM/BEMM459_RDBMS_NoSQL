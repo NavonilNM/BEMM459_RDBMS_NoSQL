{
 "cells": [
  {
   "cell_type": "markdown",
   "metadata": {},
   "source": [
    "# BEMM459 Week 11 Lab Session\n",
    "# - Neo4J with Python (Py2Neo)\n",
    "\n",
    "### <font color=\"green\">Acknowledgement: Tutorial created by refering to sources including py2neo.org and neo4j.com/developer/python/</font>\n",
    "\n",
    "### <font color=\"green\">Please also refer to Neo4J commands from Week 10 cohort teaching - available under <a href=https://github.com/NavonilNM/BEMM459_RDBMS_NoSQL/>BEMM459 GitHub repository - Week 10 </a></font>\n",
    "\n",
    "### <font color=\"red\"> If you face problem starting Neo4J through EVD, then try the following: </font>\n",
    "### Start Neo4J server in different port\n",
    "### Create a default database using Neo4J Browser\n",
    "### Click on Manage (three dots) and select settings (the settings option chnages the neo4j config file)\n",
    "### Add the following in config file: dbms.connector.bolt.address=0.0.0.0:XXX  (XXXX is the port number)\n",
    "### Then, remove the comment for dbms.connector.bolt.listen_address and change the default port number to XXX\n",
    "### Exit Neo4J Desktop and restart"
   ]
  },
  {
   "cell_type": "markdown",
   "metadata": {},
   "source": [
    "# 1. Driver Installation"
   ]
  },
  {
   "cell_type": "code",
   "execution_count": null,
   "metadata": {},
   "outputs": [],
   "source": [
    "# The Neo4j Python driver is officially supported by Neo4j and connects to the database using the binary protocol.\n",
    "# https://neo4j.com/developer/python/\n",
    "# HOWEVER,WE ARE NOT USING THIS (we will be using PY2NEO) and so this part of the code is commented (you do not need to use neo4j driver)\n",
    "\n",
    "from neo4j import __version__ as neo4j_version\n",
    "print(neo4j_version)"
   ]
  },
  {
   "cell_type": "code",
   "execution_count": null,
   "metadata": {},
   "outputs": [],
   "source": [
    "# Import for the first time\n",
    "import sys\n",
    "!{sys.executable} -m pip install py2neo"
   ]
  },
  {
   "cell_type": "code",
   "execution_count": null,
   "metadata": {},
   "outputs": [],
   "source": [
    "# Py2neo is a client library and toolkit for working with Neo4j from within Python applications. \n",
    "# The library provides a high level API and an OGM (Object Graph Model), and many other functionalities.\n",
    "\n",
    "from py2neo import Graph\n",
    "\n",
    "# Note: You should have a database with the password \"BEMM459\" - The database should have been started (refer to Week 10 instructions)\n",
    "graph = Graph(\"bolt://localhost:7687\", auth=(\"neo4j\", \"BEMM459\"))\n",
    "\n",
    "# Version and edition\n",
    "graph.call.dbms.components()"
   ]
  },
  {
   "cell_type": "markdown",
   "metadata": {},
   "source": [
    "# 2. Creating Nodes and Relationship"
   ]
  },
  {
   "cell_type": "markdown",
   "metadata": {},
   "source": [
    "## 2.1 Create node using run()"
   ]
  },
  {
   "cell_type": "code",
   "execution_count": null,
   "metadata": {},
   "outputs": [],
   "source": [
    "#Method 1: Create node and display stats()\n",
    "#Note: Executing the code block will generate new nodes and relationships\n",
    "\n",
    "from py2neo import Graph\n",
    "\n",
    "graph.run(\"CREATE (fr1:Friend) SET fr1.name = 'Hello Friend', fr1.age=25, fr1.address='123 Exeter EX5 6TY'\").stats()"
   ]
  },
  {
   "cell_type": "markdown",
   "metadata": {},
   "source": [
    "## 2.2 Create note and relationship objects using CREATE"
   ]
  },
  {
   "cell_type": "code",
   "execution_count": null,
   "metadata": {},
   "outputs": [],
   "source": [
    "#Method 2: Create node and relationship objects using CREATE\n",
    "#The two essential building blocks of the property graph model used by Neo4j are the Node and the Relationship. \n",
    "#Note: Executing the code block will generate new nodes and relationships\n",
    "\n",
    "from py2neo import Graph, Node, Relationship\n",
    "\n",
    "#Transaction begin\n",
    "tx = graph.begin()\n",
    "\n",
    "#Creating two nodes, attaching a label 'Person' and adding a property 'name'\n",
    "p1 = Node(\"Person\", name=\"Alice\")\n",
    "tx.create(p1)\n",
    "p2 = Node(\"Person\", name=\"Bob\")\n",
    "tx.create(p2)\n",
    "\n",
    "#Establishing relationship \"KNOWS\" to join the two nodes\n",
    "rel = Relationship(p1, \"KNOWS\", p2)\n",
    "tx.create(rel)\n",
    "\n",
    "#Transaction committed\n",
    "tx.commit()\n",
    "\n",
    "#Check to see if graph exists - returns TRUE if graph exists\n",
    "graph.exists(rel)\n",
    "\n",
    "rel"
   ]
  },
  {
   "cell_type": "code",
   "execution_count": null,
   "metadata": {},
   "outputs": [],
   "source": [
    "#Method 2: Create node and relationship objects using CREATE\n",
    "\n",
    "a = Node(\"Teacher\", name=\"Nav\", address=\"UEBS\", phone=\"not known\", email=\"Nav@UEBS.co.uk\")\n",
    "b = Node(\"Student\", name=\"Student 1\", phone=\"0745672345\", email=\"S1@Edu.com\")\n",
    "c = Node(\"Student\", name=\"Student 2\", phone=\"not known\", email=\"S2@Edu.com\")\n",
    "\n",
    "#Creating directional relationships\n",
    "KNOWS = Relationship.type(\"_KNOWS_\")\n",
    "ab = KNOWS(a, b)\n",
    "ba = KNOWS(b, a)\n",
    "ac = KNOWS(a, c)\n",
    "ca = KNOWS(c, a)\n",
    "bc = KNOWS(b, c)\n",
    "cb = KNOWS(c, b)\n",
    "\n",
    "#student and teachers all known to each other\n",
    "teacher_students = ab | ba | ac | ca | bc | cb\n",
    "\n",
    "#student b knows c and teacher knows only b\n",
    "#teacher_students = ab | ba | ca | bc\n",
    "\n",
    "graph.create(teacher_students)\n",
    "\n",
    "# Print <id>\n",
    "a.graph, a.identity, b.identity, c.identity"
   ]
  },
  {
   "cell_type": "code",
   "execution_count": null,
   "metadata": {},
   "outputs": [],
   "source": [
    "#Method 2: Adding more data\n",
    "d = Node(\"Student\", name=\"Student 3\", phone=\"not known\", email=\"S3@UOE.com\", born=1985)\n",
    "e = Node(\"Student\", name=\"Student 4\", phone=\"not known\", email=\"S4@UOE.com\", born=1990)\n",
    "f = Node(\"Student\", name=\"Student 5\", phone=\"deleted\", email=\"S5@UOE.com\", born=1983)\n",
    "g = Node(\"Student\", name=\"Student 6\", phone=\"hidden\", email=\"S6@Edu.com\", born=1992)\n",
    "\n",
    "KNOWS = Relationship.type(\"_KNOWS_\")\n",
    "ad = KNOWS(a, d)\n",
    "da = KNOWS(d, a)\n",
    "ea = KNOWS(e, a)\n",
    "fa = KNOWS(f, a)\n",
    "ga = KNOWS(g, a)\n",
    "\n",
    "\n",
    "teacher_students = ad | da | ea | fa | ga\n",
    "\n",
    "graph.create(teacher_students)"
   ]
  },
  {
   "cell_type": "markdown",
   "metadata": {},
   "source": [
    "## 2.3 Create note and relationship objects using MERGE"
   ]
  },
  {
   "cell_type": "code",
   "execution_count": null,
   "metadata": {},
   "outputs": [],
   "source": [
    "#Method 3: Create node and relationship objects using MERGE\n",
    "#A Merge operation creates or updates the nodes and relationships of a local subgraph in the remote database\n",
    "#Note: Executing the code block will NOT generate new nodes and relationships - the MERGE clause ensures that a pattern exists in the graph. Either the pattern already exists, or it needs to be created.\n",
    "\n",
    "# A simple merge for a new relationship between two new nodes\n",
    "fr2 = Node(\"Friend\", name=\"Hello World\", age=33)\n",
    "fr3 = Node(\"Friend\", name=\"Lion King\", age=44)\n",
    "\n",
    "KNOWS = Relationship.type(\"KNOWS\")\n",
    "graph.merge(KNOWS(fr2, fr3), \"Friend\", \"name\")"
   ]
  },
  {
   "cell_type": "code",
   "execution_count": null,
   "metadata": {},
   "outputs": [],
   "source": [
    "#Method 3: Merging exisitng nodes using MERGE\n",
    "\n",
    "#We create a third node (of a different type) to which both the original nodes connect.\n",
    "comp = Node(\"Company\", name=\"Exeter Technology Solutions\")\n",
    "comp.__primarylabel__ = \"Company\"\n",
    "comp.__primarykey__ = \"name\"\n",
    "\n",
    "WORKS_FOR = Relationship.type(\"WORKS_FOR\")\n",
    "graph.merge(WORKS_FOR(fr2, comp) | WORKS_FOR(fr3, comp))\n",
    "\n",
    "#We merge two nodes created using METHOD 2 using MERGE\n",
    "graph.merge(WORKS_FOR(a, comp) | WORKS_FOR(b, comp))"
   ]
  },
  {
   "cell_type": "markdown",
   "metadata": {},
   "source": [
    "# 3. Query\n",
    "## 3.1 Using run() method"
   ]
  },
  {
   "cell_type": "code",
   "execution_count": null,
   "metadata": {},
   "outputs": [],
   "source": [
    "graph.run(\"MATCH (a:Student) RETURN a.name, a.phone, a.email LIMIT 5\").to_table()"
   ]
  },
  {
   "cell_type": "code",
   "execution_count": null,
   "metadata": {},
   "outputs": [],
   "source": [
    "# Extract the entire result as a list of dictionaries.\n",
    "\n",
    "graph.run(\"MATCH (a:Student) RETURN a.name, a.phone, a.email LIMIT 5\").data()"
   ]
  },
  {
   "cell_type": "code",
   "execution_count": null,
   "metadata": {},
   "outputs": [],
   "source": [
    "#This method is particularly useful when it is known that a Cypher query returns only a single value.\n",
    "\n",
    "graph.run(\"MATCH (a) WHERE a.phone=$x RETURN a.name\", x=\"0745672345\").evaluate()"
   ]
  },
  {
   "cell_type": "code",
   "execution_count": null,
   "metadata": {},
   "outputs": [],
   "source": [
    "#Consume and extract the entire result as a pandas.DataFrame.\n",
    "graph.run(\"MATCH (a:Student) RETURN a.name, a.phone, a.email LIMIT 5\").to_data_frame()"
   ]
  },
  {
   "cell_type": "code",
   "execution_count": null,
   "metadata": {},
   "outputs": [],
   "source": [
    "# Py2neo exposes several logical layers of API on top of the official Python driver. \n",
    "# The lowest level Cypher API provides Cypher execution facilities - has Table() object\n",
    "\n",
    "graph.run(\"MATCH (a:Person) RETURN a.name, a.born LIMIT 5\").to_table()"
   ]
  },
  {
   "cell_type": "markdown",
   "metadata": {},
   "source": [
    "## 3.2 Node Matching"
   ]
  },
  {
   "cell_type": "code",
   "execution_count": null,
   "metadata": {},
   "outputs": [],
   "source": [
    "# Node Matching - \n",
    "# A NodeMatcher can be used to locate nodes that fulfil a specific set of criteria. \n",
    "# Typically, a single node can be identified passing a specific label and property key-value pair. \n",
    "# However, any number of labels and any condition supported by the Cypher WHERE clause is allowed.\n",
    "# To refer to the current node within a condition expression, use the underscore character _\n",
    "\n",
    "from py2neo import Graph, NodeMatcher\n",
    "\n",
    "matcher = NodeMatcher(graph)\n",
    "matcher.match(\"Student\", name=\"Student 1\").first()"
   ]
  },
  {
   "cell_type": "code",
   "execution_count": null,
   "metadata": {},
   "outputs": [],
   "source": [
    "# A more comprehensive match using Cypher expressions, the NodeMatch.where()\n",
    "\n",
    "list(matcher.match(\"Student\").where(\"_.name =~ 'S.*'\"))"
   ]
  },
  {
   "cell_type": "code",
   "execution_count": null,
   "metadata": {},
   "outputs": [],
   "source": [
    "# Orders and limits can also be applied\n",
    "\n",
    "list(matcher.match(\"Student\").where(\"_.name =~ 'S.*'\").order_by(\"_.name\").limit(2))"
   ]
  },
  {
   "cell_type": "code",
   "execution_count": null,
   "metadata": {},
   "outputs": [],
   "source": [
    "#from py2neo import Graph\n",
    "\n",
    "from py2neo.matching import *\n",
    "\n",
    "nodes = NodeMatcher(graph)\n",
    "nodes.match(\"Student\", email=STARTS_WITH(\"S1\")).all()"
   ]
  },
  {
   "cell_type": "code",
   "execution_count": null,
   "metadata": {},
   "outputs": [],
   "source": [
    "nodes.match(\"Student\", email=ENDS_WITH(\"UOE.com\")).all()"
   ]
  },
  {
   "cell_type": "code",
   "execution_count": null,
   "metadata": {},
   "outputs": [],
   "source": [
    "nodes.match(\"Student\", phone=CONTAINS(\"not\")).all()"
   ]
  },
  {
   "cell_type": "code",
   "execution_count": null,
   "metadata": {},
   "outputs": [],
   "source": [
    "nodes.match(\"Student\", name=LIKE(\".*1.*\")).all()"
   ]
  },
  {
   "cell_type": "code",
   "execution_count": null,
   "metadata": {},
   "outputs": [],
   "source": [
    "nodes.match(\"Student\", email=IN([\"S3@UOE.com\", \"S4@UOE.com\", \"S6@UOE.com\"])).all()"
   ]
  },
  {
   "cell_type": "code",
   "execution_count": null,
   "metadata": {},
   "outputs": [],
   "source": [
    "nodes.match(\"Student\", born=AND(GE(1980), LE(1990))).all()"
   ]
  },
  {
   "cell_type": "code",
   "execution_count": null,
   "metadata": {},
   "outputs": [],
   "source": [
    "nodes.match(\"Student\", email=OR(STARTS_WITH(\"S3\"), ENDS_WITH(\"UOE.com\"))).all()"
   ]
  },
  {
   "cell_type": "markdown",
   "metadata": {},
   "source": [
    "# 3.3 Count Functions"
   ]
  },
  {
   "cell_type": "code",
   "execution_count": null,
   "metadata": {},
   "outputs": [],
   "source": [
    "graph.evaluate(\"MATCH (a:Teacher) RETURN count(a)\")"
   ]
  },
  {
   "cell_type": "code",
   "execution_count": null,
   "metadata": {},
   "outputs": [],
   "source": [
    "# Counting the nodes\n",
    "len(graph.nodes.match(\"Friend\", age=25))"
   ]
  },
  {
   "cell_type": "code",
   "execution_count": null,
   "metadata": {},
   "outputs": [],
   "source": [
    "# Counting the nodes\n",
    "len(graph.nodes)"
   ]
  },
  {
   "cell_type": "markdown",
   "metadata": {},
   "source": [
    "# 4. Object-Graph Mapper"
   ]
  },
  {
   "cell_type": "markdown",
   "metadata": {},
   "source": [
    "## 4.1 Create Objects (OGM)"
   ]
  },
  {
   "cell_type": "code",
   "execution_count": null,
   "metadata": {},
   "outputs": [],
   "source": [
    "# OGM is Object-Graph Mapping\n",
    "# from py2neo.ogm import *\n",
    "from py2neo.ogm import *\n",
    "from py2neo import *\n",
    "\n",
    "class Movie(GraphObject):\n",
    "    __primarykey__ = \"title\"\n",
    "\n",
    "    title = Property()\n",
    "    tag_line = Property(\"tagline\")\n",
    "    released = Property()\n",
    "\n",
    "    actors = RelatedFrom(\"Person\", \"ACTED_IN\")\n",
    "    directors = RelatedFrom(\"Person\", \"DIRECTED\")\n",
    "    producers = RelatedFrom(\"Person\", \"PRODUCED\")\n",
    "    \n",
    "    #Labels\n",
    "    comedy=Label()\n",
    "    action=Label()\n",
    "\n",
    "\n",
    "class Actor(GraphObject):\n",
    "    __primarykey__ = \"name\"\n",
    "\n",
    "    name = Property()\n",
    "    born = Property()\n",
    "\n",
    "    acted_in = RelatedTo(Movie)\n",
    "    directed = RelatedTo(Movie)\n",
    "    produced = RelatedTo(Movie)"
   ]
  },
  {
   "cell_type": "code",
   "execution_count": null,
   "metadata": {},
   "outputs": [],
   "source": [
    "peter = Actor()\n",
    "peter.name = \"Peter Pan\"\n",
    "\n",
    "#Injecting node to graph\n",
    "graph.push(peter)\n",
    "\n",
    "#Print\n",
    "peter.__node__"
   ]
  },
  {
   "cell_type": "code",
   "execution_count": null,
   "metadata": {},
   "outputs": [],
   "source": [
    "lionking = Movie()\n",
    "\n",
    "#Query label\n",
    "lionking.comedy\n",
    "\n",
    "#Setting label to true\n",
    "lionking.comedy = True\n",
    "\n",
    "lionking.title = \"Lion King\"\n",
    "\n",
    "#Injecting node to graph\n",
    "graph.push(lionking)"
   ]
  },
  {
   "cell_type": "markdown",
   "metadata": {},
   "source": [
    "## 4.2 Deleting Objects (OGM)"
   ]
  },
  {
   "cell_type": "code",
   "execution_count": null,
   "metadata": {},
   "outputs": [],
   "source": [
    "graph.delete(peter)\n",
    "graph.delete(lionking)"
   ]
  }
 ],
 "metadata": {
  "kernelspec": {
   "display_name": "Python 3",
   "language": "python",
   "name": "python3"
  },
  "language_info": {
   "codemirror_mode": {
    "name": "ipython",
    "version": 3
   },
   "file_extension": ".py",
   "mimetype": "text/x-python",
   "name": "python",
   "nbconvert_exporter": "python",
   "pygments_lexer": "ipython3",
   "version": "3.7.3"
  }
 },
 "nbformat": 4,
 "nbformat_minor": 2
}
