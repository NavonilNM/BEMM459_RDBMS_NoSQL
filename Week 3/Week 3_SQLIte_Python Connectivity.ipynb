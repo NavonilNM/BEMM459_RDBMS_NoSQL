{
 "cells": [
  {
   "cell_type": "markdown",
   "metadata": {},
   "source": [
    "# BEMM459 (Week 3)\n",
    "## Testing connection with Sqlite3\n",
    "## We are using Chinook database (chinook.db)"
   ]
  },
  {
   "cell_type": "code",
   "execution_count": null,
   "metadata": {},
   "outputs": [],
   "source": [
    "# Import library\n",
    "import sqlite3\n",
    "\n",
    "# Connect to the Database - the DATABASE must already exisit\n",
    "# Example of path: 'S:\\\\SQLite\\\\Week 3\\\\XXX.db'\n",
    "conn=sqlite3.connect(\"S:\\\\SQLite\\\\Week 3\\\\chinook.db\")\n",
    "cur=conn.cursor()"
   ]
  },
  {
   "cell_type": "code",
   "execution_count": null,
   "metadata": {},
   "outputs": [],
   "source": [
    "# Query data from the table - Note: STUDENT table must exist\n",
    "\n",
    "# Prepare the query String\n",
    "qry=\"select * from customers;\"\n",
    "\n",
    "# Execute query on SQLite\n",
    "cur.execute(qry)\n",
    "\n",
    "# Display rows\n",
    "rows=cur.fetchall()\n",
    "\n",
    "for row in rows:\n",
    "    print (row)"
   ]
  },
  {
   "cell_type": "code",
   "execution_count": null,
   "metadata": {},
   "outputs": [],
   "source": [
    "# Insert values into table\n",
    "\n",
    "# Note that multi-line string is used (and thus enclosed in three double-quotes)\n",
    "qry=\"\"\"insert into customers (CustomerID, FirstName, LastName, Company, Address, City, State, Country, PostalCode, Phone, Email)  \n",
    "values (9011,'BEMM451_FIRSTNAME', 'BEMM451_LASTNAME', 'University of Exeter', 'Streatham Court', 'Exeter', 'Devon', 'UK', \n",
    "'EX45PI', '012345678', 'firstname.lastname@exeter.ac.uk');\"\"\"\n",
    "cur.execute(qry)\n",
    "\n",
    "\n",
    "# Commit data to database\n",
    "conn.commit()\n",
    "\n",
    "\n",
    "# Prepare the query String\n",
    "qry=\"select * from customers;\"\n",
    "\n",
    "# Execute query on SQLite\n",
    "cur.execute(qry)\n",
    "\n",
    "# Display rows\n",
    "rows=cur.fetchall()\n",
    "\n",
    "for row in rows:\n",
    "    print (row)"
   ]
  },
  {
   "cell_type": "code",
   "execution_count": null,
   "metadata": {},
   "outputs": [],
   "source": [
    "# Close database connection\n",
    "conn.close()"
   ]
  }
 ],
 "metadata": {
  "kernelspec": {
   "display_name": "Python 3",
   "language": "python",
   "name": "python3"
  },
  "language_info": {
   "codemirror_mode": {
    "name": "ipython",
    "version": 3
   },
   "file_extension": ".py",
   "mimetype": "text/x-python",
   "name": "python",
   "nbconvert_exporter": "python",
   "pygments_lexer": "ipython3",
   "version": "3.7.3"
  }
 },
 "nbformat": 4,
 "nbformat_minor": 2
}
